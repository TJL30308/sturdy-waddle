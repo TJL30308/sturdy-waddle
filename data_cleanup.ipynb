{
 "cells": [
  {
   "cell_type": "code",
   "execution_count": 1,
   "metadata": {},
   "outputs": [],
   "source": [
    "import pandas as pd\n",
    "import numpy as np\n",
    "from pprint import pprint"
   ]
  },
  {
   "cell_type": "code",
   "execution_count": 2,
   "metadata": {},
   "outputs": [
    {
     "output_type": "execute_result",
     "data": {
      "text/plain": "       IMDB ID                  Title           Director              Actor  \\\n0    tt1375666              Inception  Christopher Nolan  Leonardo DiCaprio   \n1    tt1345836  The Dark Knight Rises  Christopher Nolan     Christian Bale   \n2    tt0816692           Interstellar  Christopher Nolan      Ellen Burstyn   \n3    tt1853728       Django Unchained  Quentin Tarantino         Jamie Foxx   \n4    tt0848228           The Avengers        Joss Whedon  Robert Downey Jr.   \n..         ...                    ...                ...                ...   \n640  tt2294629                 Frozen         Chris Buck       Kristen Bell   \n641  tt1591479           Act of Valor         Mike McCoy       Rorke Denver   \n642  tt1473832   Bridget Jones's Baby     Sharon Maguire    Renée Zellweger   \n643  tt1763303         The First Time    Jonathan Kasdan    Britt Robertson   \n644  tt3045616              Mortdecai        David Koepp        Johnny Depp   \n\n     Year    Box Office Rating  IMDB Rating IMDB Votes  Metascore  \n0    2010  $292,568,851  PG-13          8.8  1,953,512       74.0  \n1    2012  $448,130,642  PG-13          8.4  1,454,342       78.0  \n2    2014  $158,737,441  PG-13          8.6  1,395,990       74.0  \n3    2012  $162,804,648      R          8.4  1,282,957       81.0  \n4    2012  $623,279,547  PG-13          8.0  1,225,316       69.0  \n..    ...           ...    ...          ...        ...        ...  \n640  2013  $400,736,600     PG          7.5    551,637       75.0  \n641  2012   $65,800,000      R          6.5     64,922       40.0  \n642  2016   $24,089,465      R          6.5     64,988       59.0  \n643  2012       $17,061  PG-13          6.8     64,441       55.0  \n644  2015    $6,847,536      R          5.5     63,826       27.0  \n\n[645 rows x 10 columns]",
      "text/html": "<div>\n<style scoped>\n    .dataframe tbody tr th:only-of-type {\n        vertical-align: middle;\n    }\n\n    .dataframe tbody tr th {\n        vertical-align: top;\n    }\n\n    .dataframe thead th {\n        text-align: right;\n    }\n</style>\n<table border=\"1\" class=\"dataframe\">\n  <thead>\n    <tr style=\"text-align: right;\">\n      <th></th>\n      <th>IMDB ID</th>\n      <th>Title</th>\n      <th>Director</th>\n      <th>Actor</th>\n      <th>Year</th>\n      <th>Box Office</th>\n      <th>Rating</th>\n      <th>IMDB Rating</th>\n      <th>IMDB Votes</th>\n      <th>Metascore</th>\n    </tr>\n  </thead>\n  <tbody>\n    <tr>\n      <td>0</td>\n      <td>tt1375666</td>\n      <td>Inception</td>\n      <td>Christopher Nolan</td>\n      <td>Leonardo DiCaprio</td>\n      <td>2010</td>\n      <td>$292,568,851</td>\n      <td>PG-13</td>\n      <td>8.8</td>\n      <td>1,953,512</td>\n      <td>74.0</td>\n    </tr>\n    <tr>\n      <td>1</td>\n      <td>tt1345836</td>\n      <td>The Dark Knight Rises</td>\n      <td>Christopher Nolan</td>\n      <td>Christian Bale</td>\n      <td>2012</td>\n      <td>$448,130,642</td>\n      <td>PG-13</td>\n      <td>8.4</td>\n      <td>1,454,342</td>\n      <td>78.0</td>\n    </tr>\n    <tr>\n      <td>2</td>\n      <td>tt0816692</td>\n      <td>Interstellar</td>\n      <td>Christopher Nolan</td>\n      <td>Ellen Burstyn</td>\n      <td>2014</td>\n      <td>$158,737,441</td>\n      <td>PG-13</td>\n      <td>8.6</td>\n      <td>1,395,990</td>\n      <td>74.0</td>\n    </tr>\n    <tr>\n      <td>3</td>\n      <td>tt1853728</td>\n      <td>Django Unchained</td>\n      <td>Quentin Tarantino</td>\n      <td>Jamie Foxx</td>\n      <td>2012</td>\n      <td>$162,804,648</td>\n      <td>R</td>\n      <td>8.4</td>\n      <td>1,282,957</td>\n      <td>81.0</td>\n    </tr>\n    <tr>\n      <td>4</td>\n      <td>tt0848228</td>\n      <td>The Avengers</td>\n      <td>Joss Whedon</td>\n      <td>Robert Downey Jr.</td>\n      <td>2012</td>\n      <td>$623,279,547</td>\n      <td>PG-13</td>\n      <td>8.0</td>\n      <td>1,225,316</td>\n      <td>69.0</td>\n    </tr>\n    <tr>\n      <td>...</td>\n      <td>...</td>\n      <td>...</td>\n      <td>...</td>\n      <td>...</td>\n      <td>...</td>\n      <td>...</td>\n      <td>...</td>\n      <td>...</td>\n      <td>...</td>\n      <td>...</td>\n    </tr>\n    <tr>\n      <td>640</td>\n      <td>tt2294629</td>\n      <td>Frozen</td>\n      <td>Chris Buck</td>\n      <td>Kristen Bell</td>\n      <td>2013</td>\n      <td>$400,736,600</td>\n      <td>PG</td>\n      <td>7.5</td>\n      <td>551,637</td>\n      <td>75.0</td>\n    </tr>\n    <tr>\n      <td>641</td>\n      <td>tt1591479</td>\n      <td>Act of Valor</td>\n      <td>Mike McCoy</td>\n      <td>Rorke Denver</td>\n      <td>2012</td>\n      <td>$65,800,000</td>\n      <td>R</td>\n      <td>6.5</td>\n      <td>64,922</td>\n      <td>40.0</td>\n    </tr>\n    <tr>\n      <td>642</td>\n      <td>tt1473832</td>\n      <td>Bridget Jones's Baby</td>\n      <td>Sharon Maguire</td>\n      <td>Renée Zellweger</td>\n      <td>2016</td>\n      <td>$24,089,465</td>\n      <td>R</td>\n      <td>6.5</td>\n      <td>64,988</td>\n      <td>59.0</td>\n    </tr>\n    <tr>\n      <td>643</td>\n      <td>tt1763303</td>\n      <td>The First Time</td>\n      <td>Jonathan Kasdan</td>\n      <td>Britt Robertson</td>\n      <td>2012</td>\n      <td>$17,061</td>\n      <td>PG-13</td>\n      <td>6.8</td>\n      <td>64,441</td>\n      <td>55.0</td>\n    </tr>\n    <tr>\n      <td>644</td>\n      <td>tt3045616</td>\n      <td>Mortdecai</td>\n      <td>David Koepp</td>\n      <td>Johnny Depp</td>\n      <td>2015</td>\n      <td>$6,847,536</td>\n      <td>R</td>\n      <td>5.5</td>\n      <td>63,826</td>\n      <td>27.0</td>\n    </tr>\n  </tbody>\n</table>\n<p>645 rows × 10 columns</p>\n</div>"
     },
     "metadata": {},
     "execution_count": 2
    }
   ],
   "source": [
    "df = pd.read_csv('data.csv')\n",
    "df.dropna(inplace=True)\n",
    "df.reset_index(inplace=True)\n",
    "df.drop(['Unnamed: 0', 'index'], axis=1, inplace=True)\n",
    "df"
   ]
  },
  {
   "cell_type": "markdown",
   "metadata": {},
   "source": []
  },
  {
   "cell_type": "code",
   "execution_count": 3,
   "metadata": {},
   "outputs": [
    {
     "output_type": "execute_result",
     "data": {
      "text/plain": "IMDB ID         object\nTitle           object\nDirector        object\nActor           object\nYear            object\nBox Office      object\nRating          object\nIMDB Rating    float64\nIMDB Votes      object\nMetascore      float64\ndtype: object"
     },
     "metadata": {},
     "execution_count": 3
    }
   ],
   "source": [
    "df.dtypes"
   ]
  },
  {
   "cell_type": "markdown",
   "metadata": {},
   "source": [
    "## Things to Cleanup\n",
    "* Year: remove hyphenated years\n",
    "* Box Office: remove dollar signs and commas\n",
    "* IMDB Votes: remove commas"
   ]
  },
  {
   "cell_type": "markdown",
   "metadata": {},
   "source": [
    "## Year Cleanup"
   ]
  },
  {
   "cell_type": "markdown",
   "metadata": {},
   "source": [
    "### Update data type for Year col"
   ]
  },
  {
   "cell_type": "code",
   "execution_count": 10,
   "metadata": {},
   "outputs": [
    {
     "output_type": "execute_result",
     "data": {
      "text/plain": "IMDB ID         object\nTitle           object\nDirector        object\nActor           object\nYear             int32\nBox Office      object\nRating          object\nIMDB Rating    float64\nIMDB Votes      object\nMetascore      float64\ndtype: object"
     },
     "metadata": {},
     "execution_count": 10
    }
   ],
   "source": [
    "df = df.astype({'Year': int})\n",
    "df.dtypes"
   ]
  },
  {
   "cell_type": "markdown",
   "metadata": {},
   "source": [
    "### Find rows outside of 2010s range"
   ]
  },
  {
   "cell_type": "code",
   "execution_count": 21,
   "metadata": {},
   "outputs": [
    {
     "output_type": "stream",
     "name": "stdout",
     "text": "[176, 204, 262, 344, 610, 612, 637]\n"
    }
   ],
   "source": [
    "index_list = []\n",
    "\n",
    "for index, row in df.iterrows():\n",
    "    year = row.Year\n",
    "    if year < 2010 or year > 2019:\n",
    "        index_list.append(index)\n",
    "print(index_list)"
   ]
  },
  {
   "cell_type": "code",
   "execution_count": null,
   "metadata": {},
   "outputs": [],
   "source": []
  }
 ],
 "metadata": {
  "language_info": {
   "codemirror_mode": {
    "name": "ipython",
    "version": 3
   },
   "file_extension": ".py",
   "mimetype": "text/x-python",
   "name": "python",
   "nbconvert_exporter": "python",
   "pygments_lexer": "ipython3",
   "version": "3.7.4-final"
  },
  "orig_nbformat": 2,
  "kernelspec": {
   "name": "python37464bitbaseconda7bc3910bbe4a4c1e89b80bb43883e8bc",
   "display_name": "Python 3.7.4 64-bit ('base': conda)"
  }
 },
 "nbformat": 4,
 "nbformat_minor": 2
}